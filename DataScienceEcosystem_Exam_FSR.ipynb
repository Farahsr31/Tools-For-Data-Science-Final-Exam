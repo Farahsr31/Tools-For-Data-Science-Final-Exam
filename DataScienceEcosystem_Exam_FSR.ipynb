{
 "cells": [
  {
   "cell_type": "markdown",
   "id": "c9493329-3d8a-4acf-8b96-88ab21a31e6c",
   "metadata": {},
   "source": [
    "# Data Science Ecosystem Summary Notebook"
   ]
  },
  {
   "cell_type": "markdown",
   "id": "50716015-0ba2-4b4d-a50b-2b6b579b4151",
   "metadata": {},
   "source": [
    "## Introduction\n",
    "In this notebook, we summarize the tools, languages, and libraries commonly used in the data science ecosystem. This includes a demonstration of basic arithmetic expression execution in Python."
   ]
  },
  {
   "cell_type": "markdown",
   "id": "f6c02ca6-e0db-4c68-a747-5ec16dd9f7c1",
   "metadata": {},
   "source": [
    "## Some of the popular languages that Data Scientists use are:\n",
    "1. Python\n",
    "2. R\n",
    "3. SQL\n",
    "4. Julia"
   ]
  },
  {
   "cell_type": "markdown",
   "id": "98a7bd08-8695-423e-b158-763231e077dc",
   "metadata": {},
   "source": [
    "## Some of the commonly used libraries that Data Scientists use include:\n",
    "1. Pandas\n",
    "2. NumPy\n",
    "3. Matplotlib\n",
    "4. Scikit-learn\n",
    "5. TensorFlow"
   ]
  },
  {
   "cell_type": "markdown",
   "id": "2e6860e3-c706-478f-80a0-c7e75e20032b",
   "metadata": {},
   "source": [
    "## Table of Data Science Tools\n",
    "\n",
    "| Category         | Tool             |\n",
    "|------------------|------------------|\n",
    "| Data Integration | Apache Airflow   |\n",
    "| Data Analysis    | Pandas           |\n",
    "| Data Visualization | Tableau       |\n",
    "| Machine Learning | Scikit-learn     |\n",
    "| Deep Learning    | TensorFlow       |"
   ]
  },
  {
   "cell_type": "markdown",
   "id": "1df87df3-9dfd-4380-a626-af536c8134d4",
   "metadata": {},
   "source": [
    "## Below are a few examples of evaluating arithmetic expressions in Python."
   ]
  },
  {
   "cell_type": "code",
   "execution_count": 6,
   "id": "5d7fb570-61cc-4883-bb0e-91b162459a80",
   "metadata": {},
   "outputs": [
    {
     "data": {
      "text/plain": [
       "17"
      ]
     },
     "execution_count": 6,
     "metadata": {},
     "output_type": "execute_result"
    }
   ],
   "source": [
    "#This is a simple arithmetic expression to multiply then add integers.\n",
    "\n",
    "(3*4)+5"
   ]
  },
  {
   "cell_type": "code",
   "execution_count": 7,
   "id": "75192e31-8cb6-41dc-b5f0-dde6368128f4",
   "metadata": {},
   "outputs": [
    {
     "data": {
      "text/plain": [
       "3.3333333333333335"
      ]
     },
     "execution_count": 7,
     "metadata": {},
     "output_type": "execute_result"
    }
   ],
   "source": [
    "#This will convert 200 minutes to hours by dividing by 60.\n",
    "\n",
    "200 / 60"
   ]
  },
  {
   "cell_type": "markdown",
   "id": "0d452187-6dfe-425c-8fa7-3f2a120cce32",
   "metadata": {},
   "source": [
    "## Objectives:\n",
    "- List popular languages for Data Science\n",
    "- Identify commonly used libraries\n",
    "- Understand basic arithmetic operations in code\n",
    "- Show table structure in Markdown\n",
    "- Share a simple notebook"
   ]
  },
  {
   "cell_type": "markdown",
   "id": "ffb11c0d-c57e-463a-8efd-a532da6d683a",
   "metadata": {},
   "source": [
    "## Author\n",
    "Fa-rah Shakee Rodgers"
   ]
  }
 ],
 "metadata": {
  "kernelspec": {
   "display_name": "Python 3 (ipykernel)",
   "language": "python",
   "name": "python3"
  },
  "language_info": {
   "codemirror_mode": {
    "name": "ipython",
    "version": 3
   },
   "file_extension": ".py",
   "mimetype": "text/x-python",
   "name": "python",
   "nbconvert_exporter": "python",
   "pygments_lexer": "ipython3",
   "version": "3.12.8"
  }
 },
 "nbformat": 4,
 "nbformat_minor": 5
}
